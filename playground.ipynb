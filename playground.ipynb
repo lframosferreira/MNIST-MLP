{
 "cells": [
  {
   "cell_type": "code",
   "execution_count": 10,
   "metadata": {},
   "outputs": [],
   "source": [
    "import numpy as np\n",
    "import numpy.typing as npt\n",
    "import matplotlib.pyplot as plt\n",
    "import pandas as pd\n",
    "import tensorflow as tf\n",
    "import warnings\n",
    "warnings.filterwarnings(\"ignore\")"
   ]
  },
  {
   "cell_type": "code",
   "execution_count": 11,
   "metadata": {},
   "outputs": [],
   "source": [
    "def plot_number(true_label: np.int_, pixels: npt.NDArray[np.int_], predicted_label: np.int_) -> None:\n",
    "    plt.title(f\"True label: {int(true_label)}, Predicted label: {int(predicted_label)}\")\n",
    "    plt.imshow(np.reshape(pixels, (28, 28)), cmap=\"gray\")\n",
    "    plt.axis(\"off\")"
   ]
  },
  {
   "cell_type": "code",
   "execution_count": 12,
   "metadata": {},
   "outputs": [],
   "source": [
    "data: npt.NDArray[np.int_] = pd.read_csv(\"data/input/data_tp1\", header=None).to_numpy()\n",
    "labels: npt.NDArray[np.int_] = data[:, 0]\n",
    "pixels: npt.NDArray[np.float_] = data[:, 1:] / 255"
   ]
  },
  {
   "cell_type": "code",
   "execution_count": 13,
   "metadata": {},
   "outputs": [],
   "source": [
    "model = tf.keras.models.load_model(\"my_model.h5\")"
   ]
  },
  {
   "cell_type": "code",
   "execution_count": 43,
   "metadata": {},
   "outputs": [
    {
     "name": "stdout",
     "output_type": "stream",
     "text": [
      "1/1 [==============================] - 0s 30ms/step\n"
     ]
    },
    {
     "data": {
      "image/png": "[encoded data removed]",
      "text/plain": [
       "<Figure size 640x480 with 1 Axes>"
      ]
     },
     "metadata": {},
     "output_type": "display_data"
    }
   ],
   "source": [
    "random_draw: np.int_ = np.random.randint(low=0, high=labels.size)\n",
    "predicted_label: np.int_ = np.argmax(model.predict(np.array([pixels[random_draw]])))\n",
    "plot_number(true_label=labels[random_draw], pixels=pixels[random_draw], predicted_label=predicted_label)"
   ]
  }
 ],
 "metadata": {
  "kernelspec": {
   "display_name": "MNIST-MLP",
   "language": "python",
   "name": "python3"
  },
  "language_info": {
   "codemirror_mode": {
    "name": "ipython",
    "version": 3
   },
   "file_extension": ".py",
   "mimetype": "text/x-python",
   "name": "python",
   "nbconvert_exporter": "python",
   "pygments_lexer": "ipython3",
   "version": "3.10.11"
  },
  "orig_nbformat": 4
 },
 "nbformat": 4,
 "nbformat_minor": 2
}
